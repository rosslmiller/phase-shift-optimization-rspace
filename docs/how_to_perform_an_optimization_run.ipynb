{
 "cells": [
  {
   "cell_type": "markdown",
   "metadata": {},
   "source": [
    "# How to perform an optimization run"
   ]
  },
  {
   "cell_type": "markdown",
   "metadata": {},
   "source": [
    "## Prerequisites"
   ]
  },
  {
   "cell_type": "markdown",
   "metadata": {},
   "source": [
    "This repository requires that users have Python 3.7+ and the `scipy` package installed.\n",
    "\n",
    "The authors recommend that you use `conda` to manage the installation of multiple versions of Python. (See the [miniconda documentation][miniconda] for more information.)\n",
    "\n",
    "[miniconda]: https://docs.conda.io/en/latest/miniconda.html"
   ]
  },
  {
   "cell_type": "markdown",
   "metadata": {},
   "source": [
    "## Select your target states by editting `lm_run.py`"
   ]
  },
  {
   "cell_type": "markdown",
   "metadata": {},
   "source": [
    "Within the `lm_run.py` script, near the top of the file, there is a global variable called `TARGET_STATES`. The user shall specify which states to target for optimization by assigning a list of states to this variable, e.g.\n",
    "\n",
    "```python\n",
    "TARGET_STATES = [\"1S0\", \"1P1\"]\n",
    "```\n",
    "\n",
    "(To understand more about what this variable does, refer to the `lm_run.py` script and the `docs/InputWriter.ipynb` notebook.)"
   ]
  },
  {
   "cell_type": "markdown",
   "metadata": {},
   "source": [
    "## Prepare the input file, `dphqq.d`"
   ]
  },
  {
   "cell_type": "markdown",
   "metadata": {},
   "source": [
    "For the `lm_run.py` script to produce meaningful results, it is necessary that the input file be configured to compute phase shifts which correspond to the targeted state(s).\n",
    "\n",
    "For example, if the user wishes to target the `\"1S0\"` state, then\n",
    "\n",
    "1. `jb,je` should be set to `0  0`; and\n",
    "2. `sing,tr,cp` should be set to `1  0  0`"
   ]
  },
  {
   "cell_type": "markdown",
   "metadata": {},
   "source": [
    "All results that show up in the output will be used as data for the minimization algorithm ___even if those data are independent from the targeted states___. (Please submit an issue on GitHub if you would like this behavior to change.)"
   ]
  },
  {
   "cell_type": "markdown",
   "metadata": {},
   "source": [
    "## Running the script"
   ]
  },
  {
   "cell_type": "markdown",
   "metadata": {},
   "source": [
    "After selecting your target states and modifying `dphqq.d` accordingly, run the following command from the root folder of the repository.\n",
    "\n",
    "```\n",
    "$ python lm_run.py\n",
    "```"
   ]
  },
  {
   "cell_type": "markdown",
   "metadata": {},
   "source": [
    "If things are working properly, you should see output similar to the following.\n",
    "\n",
    "```\n",
    "Checking states: ['1S0']\n",
    "Sum chi**2 = 100.4741\n",
    "    [0.126  0.3048]\n",
    "Sum chi**2 = 100.4741\n",
    "    [0.126  0.3048]\n",
    "Sum chi**2 = 100.4741\n",
    "    [0.126  0.3048]\n",
    "Sum chi**2 = 100.4832\n",
    "    [0.12600126 0.3048    ]\n",
    "Sum chi**2 = 100.4331\n",
    "    [0.126      0.30480305]\n",
    "\n",
    "[... several lines omitted ...]\n",
    "\n",
    "Sum chi**2 = 53.5613\n",
    "    [0.16156076 0.33232466]\n",
    "Sum chi**2 = 53.5613\n",
    "    [0.16156076 0.33232466]\n",
    "Sum chi**2 = 53.5613\n",
    "    [0.16156076 0.33232466]\n",
    "Output from scipy.optimize.leastsq:\n",
    "\n",
    "(array([0.16156076, 0.33232466]), array([[1.00443095e-04, 4.00712243e-05],\n",
    "       [4.00712243e-05, 1.61274482e-05]]), {'fvec': array([ 0.53333333, -1.219     , -1.55745455, -1.75478947, -2.07      ,\n",
    "       -2.39442105, -2.10912195, -0.87182051,  1.85878378,  5.25397674]), 'nfev': 116, 'fjac': array([[-2.66074036e+03, -6.11000583e-01,  9.25304688e-02,\n",
    "         2.38090095e-02,  8.07805680e-03, -2.97612619e-03,\n",
    "        -1.10334434e-02, -1.44990763e-02, -2.13959342e-02,\n",
    "        -2.36705850e-02],\n",
    "       [ 1.06148783e+03,  9.97791859e+01,  1.47624493e-01,\n",
    "         4.00752483e-01,  1.35969593e-01,  1.94773822e-01,\n",
    "         2.68186876e-01,  3.12660191e-01,  3.94322123e-01,\n",
    "         3.95025341e-01]]), 'ipvt': array([2, 1], dtype=int32), 'qtf': array([0.00776107, 0.37919425])}, 'Both actual and predicted relative reductions in the sum of squares\\n  are at most 0.000000', 1)\n",
    "\n",
    "Initial parameters: [0.126, 0.3048]\n",
    "Final parameters:   [0.1615607573124226, 0.33232465650315685]\n",
    "\n",
    "For 1S0:\n",
    "a is calculated to be -23.8178; difference from experiment is: -0.07779999999999987\n",
    "r is calculated to be 2.6958; difference from experiment is: -0.0041999999999999815\n",
    "```"
   ]
  }
 ],
 "metadata": {
  "kernelspec": {
   "display_name": "Python 3",
   "language": "python",
   "name": "python3"
  },
  "language_info": {
   "codemirror_mode": {
    "name": "ipython",
    "version": 3
   },
   "file_extension": ".py",
   "mimetype": "text/x-python",
   "name": "python",
   "nbconvert_exporter": "python",
   "pygments_lexer": "ipython3",
   "version": "3.7.5"
  }
 },
 "nbformat": 4,
 "nbformat_minor": 4
}
