{
 "cells": [
  {
   "cell_type": "markdown",
   "metadata": {},
   "source": [
    "# `OutputReader` API"
   ]
  },
  {
   "cell_type": "markdown",
   "metadata": {},
   "source": [
    "## Getting started"
   ]
  },
  {
   "cell_type": "code",
   "execution_count": 1,
   "metadata": {},
   "outputs": [],
   "source": [
    "from output_reader import OutputReader"
   ]
  },
  {
   "cell_type": "markdown",
   "metadata": {},
   "source": [
    "Create an `OutputReader` instance with the name of the output file."
   ]
  },
  {
   "cell_type": "code",
   "execution_count": 2,
   "metadata": {},
   "outputs": [],
   "source": [
    "output_reader = OutputReader(\"phqq.d\")"
   ]
  },
  {
   "cell_type": "markdown",
   "metadata": {},
   "source": [
    "To fetch all of the phase shifts from the output file, use the `get_results_from_output()` method."
   ]
  },
  {
   "cell_type": "code",
   "execution_count": 3,
   "metadata": {},
   "outputs": [],
   "source": [
    "results = output_reader.get_results_from_output()"
   ]
  },
  {
   "cell_type": "markdown",
   "metadata": {},
   "source": [
    "This method returns a dictionary whose keys are state names (e.g., `\"1S0\"`) and the corresponding values are `StateResults` objects."
   ]
  },
  {
   "cell_type": "code",
   "execution_count": 4,
   "metadata": {},
   "outputs": [
    {
     "data": {
      "text/plain": [
       "{'1S0': StateResults(\n",
       "     state='1S0',\n",
       "     phase_shifts=(\n",
       "         PhaseShift(elab=0.01, theoretical=14.51505, experimental=0.0, upper=0.0, lower=0.0, chi2=0.0),\n",
       "         PhaseShift(elab=0.02, theoretical=20.03919, experimental=0.0, upper=0.0, lower=0.0, chi2=0.0),\n",
       "         PhaseShift(elab=0.03, theoretical=23.99041, experimental=0.0, upper=0.0, lower=0.0, chi2=0.0),\n",
       "         PhaseShift(elab=1.0, theoretical=62.00469, experimental=62.068, upper=62.098, lower=62.038, chi2=4.45),\n",
       "         PhaseShift(elab=5.0, theoretical=63.55757, experimental=63.63, upper=63.71, lower=63.55, chi2=0.82),\n",
       "         PhaseShift(elab=10.0, theoretical=59.86958, experimental=59.96, upper=60.07, lower=59.85, chi2=0.68),\n",
       "         PhaseShift(elab=25.0, theoretical=50.75415, experimental=50.9, upper=51.09, lower=50.71, chi2=0.59),\n",
       "         PhaseShift(elab=50.0, theoretical=40.27952, experimental=40.54, upper=40.82, lower=40.26, chi2=0.87),\n",
       "         PhaseShift(elab=100.0, theoretical=26.40703, experimental=26.78, upper=27.16, lower=26.4, chi2=0.96),\n",
       "         PhaseShift(elab=150.0, theoretical=16.80707, experimental=16.94, upper=17.35, lower=16.53, chi2=0.11),\n",
       "         PhaseShift(elab=200.0, theoretical=9.51462, experimental=8.94, upper=9.33, lower=8.55, chi2=2.17),\n",
       "         PhaseShift(elab=250.0, theoretical=3.73634, experimental=1.96, upper=2.33, lower=1.59, chi2=23.05),\n",
       "         PhaseShift(elab=300.0, theoretical=-0.94602, experimental=-4.46, upper=-4.03, lower=-4.89, chi2=66.78),\n",
       "     ),\n",
       "     low_energy_params=LowEnergyParams(a=-23.6688, r=2.6848)\n",
       " )}"
      ]
     },
     "execution_count": 4,
     "metadata": {},
     "output_type": "execute_result"
    }
   ],
   "source": [
    "results"
   ]
  },
  {
   "cell_type": "markdown",
   "metadata": {},
   "source": [
    "## Using the objects returned by `get_results_from_output()`"
   ]
  },
  {
   "cell_type": "code",
   "execution_count": 5,
   "metadata": {},
   "outputs": [
    {
     "data": {
      "text/plain": [
       "output_reader.StateResults"
      ]
     },
     "execution_count": 5,
     "metadata": {},
     "output_type": "execute_result"
    }
   ],
   "source": [
    "state_results = results[\"1S0\"]\n",
    "type(state_results)"
   ]
  },
  {
   "cell_type": "markdown",
   "metadata": {},
   "source": [
    "`StateResults` objects have three properties:\n",
    "\n",
    "1. `state` (a string): the nuclear state which the results belong to;\n",
    "2. `phase_shifts`: a tuple of `PhaseShift` objects, which store the energy level (`elab`), `theoretical` value, `experimental` value, `upper` bound, `lower` bound, and chi squared (`chi2`); and \n",
    "3. `low_energy_params`: a `LowEnergyParams` object, which stores `a` and `r`.\n",
    "\n",
    "Below are some examples of how we might access pieces of these results."
   ]
  },
  {
   "cell_type": "code",
   "execution_count": 6,
   "metadata": {},
   "outputs": [
    {
     "data": {
      "text/plain": [
       "100.47407384078771"
      ]
     },
     "execution_count": 6,
     "metadata": {},
     "output_type": "execute_result"
    }
   ],
   "source": [
    "# Compute the sum of chi squared, computing chi directly from\n",
    "# experimental / theoretical values, but exclude energy levels\n",
    "# for which no experimental measurement is provided:\n",
    "\n",
    "chis = [\n",
    "    (ps.theoretical - ps.experimental) / (ps.upper - ps.experimental)\n",
    "    for ps in state_results.phase_shifts\n",
    "    if ps.experimental != 0.0\n",
    "]\n",
    "\n",
    "sum(chi**2 for chi in chis)"
   ]
  },
  {
   "cell_type": "code",
   "execution_count": 7,
   "metadata": {},
   "outputs": [
    {
     "data": {
      "text/plain": [
       "[(0.01, 14.51505, 0.0),\n",
       " (0.02, 20.03919, 0.0),\n",
       " (0.03, 23.99041, 0.0),\n",
       " (1.0, 62.00469, 62.068),\n",
       " (5.0, 63.55757, 63.63),\n",
       " (10.0, 59.86958, 59.96),\n",
       " (25.0, 50.75415, 50.9),\n",
       " (50.0, 40.27952, 40.54),\n",
       " (100.0, 26.40703, 26.78),\n",
       " (150.0, 16.80707, 16.94),\n",
       " (200.0, 9.51462, 8.94),\n",
       " (250.0, 3.73634, 1.96),\n",
       " (300.0, -0.94602, -4.46)]"
      ]
     },
     "execution_count": 7,
     "metadata": {},
     "output_type": "execute_result"
    }
   ],
   "source": [
    "# Extract the theoretical and experimental phase shifts,\n",
    "# along with their corresponding energy level, in tuples:\n",
    "[\n",
    "    (ps.elab, ps.theoretical, ps.experimental)\n",
    "    for ps in state_results.phase_shifts\n",
    "]"
   ]
  },
  {
   "cell_type": "markdown",
   "metadata": {},
   "source": [
    "Calling `print()` on a `StateResults` object gives us a summary of the results in a table."
   ]
  },
  {
   "cell_type": "code",
   "execution_count": 8,
   "metadata": {},
   "outputs": [
    {
     "name": "stdout",
     "output_type": "stream",
     "text": [
      "Phase Shifts for \"1S0\":\n",
      "---------------------------------------------------\n",
      "      elab    theoretical    experimental    chi**2\n",
      "---------------------------------------------------\n",
      "      0.01       14.51505           0.000      0.00\n",
      "      0.02       20.03919           0.000      0.00\n",
      "      0.03       23.99041           0.000      0.00\n",
      "      1.00       62.00469          62.068      4.45\n",
      "      5.00       63.55757          63.630      0.82\n",
      "     10.00       59.86958          59.960      0.68\n",
      "     25.00       50.75415          50.900      0.59\n",
      "     50.00       40.27952          40.540      0.87\n",
      "    100.00       26.40703          26.780      0.96\n",
      "    150.00       16.80707          16.940      0.11\n",
      "    200.00        9.51462           8.940      2.17\n",
      "    250.00        3.73634           1.960     23.05\n",
      "    300.00       -0.94602          -4.460     66.78\n",
      "---------------------------------------------------\n",
      "\n",
      "Low Energy Parameters:\n",
      "    a =   -23.6688\n",
      "    r =     2.6848\n",
      "\n"
     ]
    }
   ],
   "source": [
    "state_results = results[\"1S0\"]\n",
    "print(state_results)"
   ]
  }
 ],
 "metadata": {
  "kernelspec": {
   "display_name": "Python 3",
   "language": "python",
   "name": "python3"
  },
  "language_info": {
   "codemirror_mode": {
    "name": "ipython",
    "version": 3
   },
   "file_extension": ".py",
   "mimetype": "text/x-python",
   "name": "python",
   "nbconvert_exporter": "python",
   "pygments_lexer": "ipython3",
   "version": "3.7.5"
  }
 },
 "nbformat": 4,
 "nbformat_minor": 4
}
