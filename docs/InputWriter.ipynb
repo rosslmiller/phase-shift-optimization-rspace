{
 "cells": [
  {
   "cell_type": "markdown",
   "metadata": {},
   "source": [
    "# `InputWriter` API"
   ]
  },
  {
   "cell_type": "markdown",
   "metadata": {},
   "source": [
    "## Getting started"
   ]
  },
  {
   "cell_type": "code",
   "execution_count": 1,
   "metadata": {},
   "outputs": [],
   "source": [
    "from input_writer import InputWriter"
   ]
  },
  {
   "cell_type": "markdown",
   "metadata": {},
   "source": [
    "Create an `InputWriter` instance with the name of the input file."
   ]
  },
  {
   "cell_type": "code",
   "execution_count": 2,
   "metadata": {},
   "outputs": [],
   "source": [
    "input_writer = InputWriter(\"dphqq.d\")"
   ]
  },
  {
   "cell_type": "markdown",
   "metadata": {},
   "source": [
    "The `InputWriter` has already located and saved the current coefficients."
   ]
  },
  {
   "cell_type": "code",
   "execution_count": 3,
   "metadata": {},
   "outputs": [
    {
     "name": "stdout",
     "output_type": "stream",
     "text": [
      "65:    'c01  1s0     0.126  0.        138.039   0.\\n'\n",
      "67:    'c01  1s0     0.3048 0.        138.039   0.\\n'\n",
      "69:    'c00  1p1    13.319  0.        138.039   0.\\n'\n",
      "71:    'c00  1p1     0.849  0.        138.039   0.\\n'\n",
      "73:    'c10  3s1   -0.5837950.        138.039   0.\\n'\n",
      "75:    'c10  3s1   0.2399   0.        138.039   0.\\n'\n",
      "77:    's120 3s1   0.00     0.        138.039   0.\\n'\n",
      "79:    'ls0  3s1   0.0      0.        138.039   0.\\n'\n",
      "81:    'c11  3pj   1.28     0.        138.039   0.\\n'\n",
      "83:    'c11  3pj  -0.520    0.        138.039   0.\\n'\n",
      "85:    'ls1  3pj  -0.865    0.        138.039   0.\\n'\n",
      "87:    's121 3pj   0.00     0.        138.039   0.\\n'\n"
     ]
    }
   ],
   "source": [
    "for state in input_writer.states:\n",
    "    for i in input_writer.line_numbers[state]:\n",
    "        print(f\"{i}:    {input_writer.lines[i]!r}\")"
   ]
  },
  {
   "cell_type": "markdown",
   "metadata": {},
   "source": [
    "A copy of all coefficients can be accessed in a structured format via the `coefficients` property. Note that modifying this structure ___does not___ modify the input file."
   ]
  },
  {
   "cell_type": "code",
   "execution_count": 4,
   "metadata": {},
   "outputs": [
    {
     "data": {
      "text/plain": [
       "{'1S0': (0.126, 0.3048),\n",
       " '1P1': (13.319, 0.849),\n",
       " '3S1': (-0.583795, 0.2399, 0.0, 0.0),\n",
       " '3PJ': (1.28, -0.52, -0.865, 0.0)}"
      ]
     },
     "execution_count": 4,
     "metadata": {},
     "output_type": "execute_result"
    }
   ],
   "source": [
    "input_writer.coefficients"
   ]
  },
  {
   "cell_type": "markdown",
   "metadata": {},
   "source": [
    "## Preparing for an optimization run"
   ]
  },
  {
   "cell_type": "markdown",
   "metadata": {},
   "source": [
    "`InputWriter` instances must be told which states are being targeted for optimization. This is done by assigning a list of states to the `target_states` property."
   ]
  },
  {
   "cell_type": "code",
   "execution_count": 5,
   "metadata": {},
   "outputs": [],
   "source": [
    "input_writer.target_states = [\"1S0\", \"1P1\"]"
   ]
  },
  {
   "cell_type": "markdown",
   "metadata": {},
   "source": [
    "__Note:__ if the input file has not been configured to compute phase shifts which depend on these coefficients, the optimization ___will still be attempted___. It is up to the user to properly specify `jb,je` and `sing,tr,cp` in the input file."
   ]
  },
  {
   "cell_type": "markdown",
   "metadata": {},
   "source": [
    "We can view which coefficients are being targeted with the `target_coefficients` property. Notice that this returns a list instead of a dictionary; the coefficients are ordered according to the order of states in `target_states`."
   ]
  },
  {
   "cell_type": "code",
   "execution_count": 6,
   "metadata": {},
   "outputs": [
    {
     "data": {
      "text/plain": [
       "[0.126, 0.3048, 13.319, 0.849]"
      ]
     },
     "execution_count": 6,
     "metadata": {},
     "output_type": "execute_result"
    }
   ],
   "source": [
    "input_writer.target_coefficients"
   ]
  },
  {
   "cell_type": "markdown",
   "metadata": {},
   "source": [
    "To demonstrate injecting new coefficients into the input file, suppose that we want to randomly perturb the current target coefficients. Remember that a list of the current values of the target coefficients can be obtained with the `target_coefficients` property."
   ]
  },
  {
   "cell_type": "code",
   "execution_count": 7,
   "metadata": {},
   "outputs": [],
   "source": [
    "import numpy as np"
   ]
  },
  {
   "cell_type": "code",
   "execution_count": 8,
   "metadata": {},
   "outputs": [
    {
     "name": "stdout",
     "output_type": "stream",
     "text": [
      "[0.10826209540328971, 0.3492327579868452, 15.034979115137558, 0.9700066654702455]\n"
     ]
    }
   ],
   "source": [
    "perturbed_coefficients = [\n",
    "    x * np.random.normal(loc=1.00, scale=0.10)\n",
    "    for x in input_writer.target_coefficients\n",
    "]\n",
    "print(perturbed_coefficients)"
   ]
  },
  {
   "cell_type": "markdown",
   "metadata": {},
   "source": [
    "Our new coefficients can then be injected using the `modify_coefficients()` method. Note that this method expects a list of floats of the same size as `target_coefficients`."
   ]
  },
  {
   "cell_type": "code",
   "execution_count": 9,
   "metadata": {},
   "outputs": [],
   "source": [
    "input_writer.modify_coefficients(perturbed_coefficients)"
   ]
  },
  {
   "cell_type": "markdown",
   "metadata": {},
   "source": [
    "It's important to note that our changes have not yet been saved to the file."
   ]
  },
  {
   "cell_type": "markdown",
   "metadata": {},
   "source": [
    "Let's preview our changes, just for fun."
   ]
  },
  {
   "cell_type": "code",
   "execution_count": 10,
   "metadata": {},
   "outputs": [
    {
     "name": "stdout",
     "output_type": "stream",
     "text": [
      "65:    'c01  1s0   0.108262 0.        138.039   0.\\n'\n",
      "67:    'c01  1s0   0.349233 0.        138.039   0.\\n'\n",
      "69:    'c00  1p1   15.0349790.        138.039   0.\\n'\n",
      "71:    'c00  1p1   0.970007 0.        138.039   0.\\n'\n"
     ]
    }
   ],
   "source": [
    "for state in input_writer.target_states:\n",
    "    for i in input_writer.line_numbers[state]:\n",
    "        print(f\"{i}:    {input_writer.lines[i]!r}\")"
   ]
  },
  {
   "cell_type": "markdown",
   "metadata": {},
   "source": [
    "We can see on line `69` that our coefficient collides with the next column. While this isn't ideal, both the Python scripts and Fortran executables are able to properly handle this issue."
   ]
  },
  {
   "cell_type": "markdown",
   "metadata": {},
   "source": [
    "To save these new coefficients to the file, we use the `write_lines()` method."
   ]
  },
  {
   "cell_type": "code",
   "execution_count": 11,
   "metadata": {},
   "outputs": [],
   "source": [
    "input_writer.write_lines()"
   ]
  },
  {
   "cell_type": "markdown",
   "metadata": {},
   "source": [
    "Reading the file from disk, we can indeed see our new coefficients."
   ]
  },
  {
   "cell_type": "code",
   "execution_count": 12,
   "metadata": {},
   "outputs": [
    {
     "name": "stdout",
     "output_type": "stream",
     "text": [
      "input for phases\n",
      "jb,je       0  0\n",
      "jborn       9\n",
      "nj         32 \n",
      "sing,tr,cp  1  0  0\n",
      "iprop       1\n",
      "iphrel      1\n",
      "ipotfc\n",
      "c         1000.       0.\n",
      "wn        938.9183  938.9183\n",
      "          0.01\n",
      "          0.02\n",
      "          0.03\n",
      "          1.\n",
      "          5.\n",
      "          10.\n",
      "          25.\n",
      "          50.\n",
      "          100.\n",
      "          150.\n",
      "          200.\n",
      "          250.\n",
      "          300.\n",
      "elab end\n",
      "mps,analy   0  0  0  0  0  1  0\n",
      "icpp        0  0\n",
      "icoul      80\n",
      "rcoul     10.\n",
      "irma,iqua   0  0\n",
      "ipoint      0\n",
      "iwrite      2\n",
      "ipunch      0  2\n",
      "ideg        2\n",
      "parameters for bessel transformation\n",
      "nn        240\n",
      "ax,bx,cdex   0.0    5.        35.\n",
      "qcut       5000.\n",
      "x308b\n",
      "MN Lamb    938.9183    0.\n",
      "ga,fpi       1.29   92.4\n",
      "c_i OUR      -0.74  0.00      -3.61     2.44\n",
      "d_i         \n",
      "cutall       7.               4.        1.1 \n",
      "ss   opep    1.29   92.4      134.9766  0.\n",
      "fun          1.\n",
      "s12  opep    1.29   92.4      134.9766  0.\n",
      "fun          2.\n",
      "ss   opep    1.29   92.4      139.5702  0.\n",
      "fun          1.\n",
      "s12  opep    1.29   92.4      139.5702  0.\n",
      "fun          2.\n",
      "cutall       8.               4.        1.1 \n",
      "c    tpn1    1.0    0.        138.039   1.\n",
      "fun          13.    \n",
      "ss   tpn1    1.0    0.        138.039   0.\n",
      "fun          14.    1.\n",
      "s12  tpn1    1.0    0.        138.039   0.\n",
      "fun          14.    2.\n",
      "c    tpn2    1.     0.        138.039   0.\n",
      "fun          25.    \n",
      "ss   tpn2    1.     0.        138.039   1.\n",
      "fun          28.    1.\n",
      "s12  tpn2    1.     0.        138.039   1.\n",
      "fun          28.    2.\n",
      "cutall       0.               2.        1.0\n",
      "c01  1s0   0.108262 0.        138.039   0.\n",
      "fun          3.     11.       1.        0.70\n",
      "c01  1s0   0.349233 0.        138.039   0.\n",
      "fun          3.     12.       1.        0.70\n",
      "c00  1p1   15.0349790.        138.039   0.\n",
      "fun          3.     11.       1.        0.70\n",
      "c00  1p1   0.970007 0.        138.039   0.\n",
      "fun          3.     12.       1.        0.70\n",
      "c10  3s1   -0.5837950.        138.039   0.\n",
      "fun          3.     11.       1.        0.70\n",
      "c10  3s1   0.2399   0.        138.039   0.\n",
      "fun          3.     12.       1.        0.70\n",
      "s120 3s1   0.00     0.        138.039   0.\n",
      "fun          3.     14.       1.        0.70\n",
      "ls0  3s1   0.0      0.        138.039   0.\n",
      "fun          3.     16.       1.        0.70\n",
      "c11  3pj   1.28     0.        138.039   0.\n",
      "fun          3.     11.       1.        0.70\n",
      "c11  3pj  -0.520    0.        138.039   0.\n",
      "fun          3.     12.       1.        0.70\n",
      "ls1  3pj  -0.865    0.        138.039   0.\n",
      "fun          3.     16.       1.        0.70\n",
      "s121 3pj   0.00     0.        138.039   0.\n",
      "fun          3.     14.       1.        0.70\n",
      "end param.\n"
     ]
    }
   ],
   "source": [
    "!cat dphqq.d"
   ]
  },
  {
   "cell_type": "code",
   "execution_count": 13,
   "metadata": {},
   "outputs": [],
   "source": [
    "!git checkout -- dphqq.d"
   ]
  }
 ],
 "metadata": {
  "kernelspec": {
   "display_name": "Python 3",
   "language": "python",
   "name": "python3"
  },
  "language_info": {
   "codemirror_mode": {
    "name": "ipython",
    "version": 3
   },
   "file_extension": ".py",
   "mimetype": "text/x-python",
   "name": "python",
   "nbconvert_exporter": "python",
   "pygments_lexer": "ipython3",
   "version": "3.7.5"
  }
 },
 "nbformat": 4,
 "nbformat_minor": 4
}
