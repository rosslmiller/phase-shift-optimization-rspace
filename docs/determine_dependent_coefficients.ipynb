{
 "cells": [
  {
   "cell_type": "code",
   "execution_count": 1,
   "metadata": {},
   "outputs": [],
   "source": [
    "import subprocess\n",
    "\n",
    "# Local imports\n",
    "from input_writer import InputWriter\n",
    "from output_reader import OutputReader\n",
    "from filenames import (\n",
    "    PHASE_SHIFT_INPUT_FILE,\n",
    "    PHASE_SHIFT_OUTPUT_FILE,\n",
    "    PHASE_SHIFT_EXECUTABLE,\n",
    ")"
   ]
  },
  {
   "cell_type": "code",
   "execution_count": 2,
   "metadata": {},
   "outputs": [
    {
     "name": "stdout",
     "output_type": "stream",
     "text": [
      "input for phases\n",
      "jb,je       0  0\n",
      "jborn       9\n",
      "nj         32 \n",
      "sing,tr,cp  1  0  0\n"
     ]
    }
   ],
   "source": [
    "!git checkout -- dphqq.d\n",
    "!head -n5 dphqq.d"
   ]
  },
  {
   "cell_type": "markdown",
   "metadata": {},
   "source": [
    "Be sure to modify `jb,je` and `sing,tr,cp`"
   ]
  },
  {
   "cell_type": "code",
   "execution_count": 3,
   "metadata": {},
   "outputs": [
    {
     "name": "stdout",
     "output_type": "stream",
     "text": [
      "input for phases\n",
      "jb,je       0  4\n",
      "jborn       9\n",
      "nj         32 \n",
      "sing,tr,cp  1  1  1\n"
     ]
    }
   ],
   "source": [
    "!head -n5 dphqq.d"
   ]
  },
  {
   "cell_type": "code",
   "execution_count": 4,
   "metadata": {},
   "outputs": [],
   "source": [
    "input_writer = InputWriter(PHASE_SHIFT_INPUT_FILE)"
   ]
  },
  {
   "cell_type": "code",
   "execution_count": 5,
   "metadata": {},
   "outputs": [],
   "source": [
    "output_reader = OutputReader(PHASE_SHIFT_OUTPUT_FILE)"
   ]
  },
  {
   "cell_type": "code",
   "execution_count": 6,
   "metadata": {},
   "outputs": [],
   "source": [
    "def run_phase_shift_executable():\n",
    "    process = subprocess.run([\"./\" + PHASE_SHIFT_EXECUTABLE])\n",
    "    assert process.returncode == 0"
   ]
  },
  {
   "cell_type": "code",
   "execution_count": 7,
   "metadata": {},
   "outputs": [],
   "source": [
    "run_phase_shift_executable()"
   ]
  },
  {
   "cell_type": "code",
   "execution_count": 8,
   "metadata": {},
   "outputs": [],
   "source": [
    "INITIAL_COEFFICIENTS = input_writer.coefficients\n",
    "INITIAL_RESULTS = output_reader.get_results_from_output()"
   ]
  },
  {
   "cell_type": "code",
   "execution_count": 9,
   "metadata": {},
   "outputs": [
    {
     "name": "stdout",
     "output_type": "stream",
     "text": [
      "{'1S0': (0.126, 0.3048), '1P1': (13.319, 0.849), '3S1': (-0.583795, 0.2399, 0.0, 0.0), '3PJ': (1.28, -0.52, -0.865, 0.0)}\n"
     ]
    }
   ],
   "source": [
    "print(INITIAL_COEFFICIENTS)"
   ]
  },
  {
   "cell_type": "code",
   "execution_count": 10,
   "metadata": {},
   "outputs": [
    {
     "name": "stdout",
     "output_type": "stream",
     "text": [
      "dict_keys(['1S0', '3P0', '1P1', '3P1', '3S1', '3D1', 'E1', '1D2', '3D2', '3P2', '3F2', 'E2', '1F3', '3F3', '3D3', '3G3', 'E3', '1G4', '3G4', '3F4', '3H4', 'E4'])\n"
     ]
    }
   ],
   "source": [
    "print(INITIAL_RESULTS.keys())"
   ]
  },
  {
   "cell_type": "code",
   "execution_count": 13,
   "metadata": {},
   "outputs": [],
   "source": [
    "PERTURBATION = 1.0\n",
    "\n",
    "def determine_affected_states(state, coeff_index, threshold=0.0):\n",
    "    input_writer.target_states = [state]\n",
    "    initial_coefficients = list(INITIAL_COEFFICIENTS[state])\n",
    "    \n",
    "    new_coefficients = list(initial_coefficients)\n",
    "    new_coefficients[coeff_index] += PERTURBATION\n",
    "    \n",
    "    # Modify input file and compute new output\n",
    "    input_writer.modify_coefficients(new_coefficients)\n",
    "    input_writer.write_lines()\n",
    "    run_phase_shift_executable()\n",
    "    results = output_reader.get_results_from_output()\n",
    "    \n",
    "    # Determine affected states\n",
    "    affected_states = [\n",
    "        state for state in INITIAL_RESULTS.keys()\n",
    "        if results[state] - INITIAL_RESULTS[state] > threshold\n",
    "    ]\n",
    "    \n",
    "    # Reset input file and output file\n",
    "    input_writer.modify_coefficients(initial_coefficients)\n",
    "    input_writer.write_lines()\n",
    "    run_phase_shift_executable()\n",
    "    \n",
    "    return affected_states"
   ]
  },
  {
   "cell_type": "code",
   "execution_count": 14,
   "metadata": {},
   "outputs": [
    {
     "data": {
      "text/plain": [
       "['1S0', '1D2', '1G4']"
      ]
     },
     "execution_count": 14,
     "metadata": {},
     "output_type": "execute_result"
    }
   ],
   "source": [
    "determine_affected_states(\"1S0\", 0)"
   ]
  },
  {
   "cell_type": "code",
   "execution_count": 15,
   "metadata": {},
   "outputs": [],
   "source": [
    "state_dependencies = {\n",
    "    (state, index): determine_affected_states(state, index)\n",
    "    for state in input_writer.states\n",
    "    for index in range(input_writer.multiplicity[state])\n",
    "}"
   ]
  },
  {
   "cell_type": "code",
   "execution_count": 16,
   "metadata": {},
   "outputs": [
    {
     "name": "stdout",
     "output_type": "stream",
     "text": [
      "('1S0', 0): ['1S0', '1D2', '1G4']\n",
      "('1S0', 1): ['1S0', '1D2', '1G4']\n",
      "('1P1', 0): ['1P1', '1F3']\n",
      "('1P1', 1): ['1P1', '1F3']\n",
      "('3S1', 0): ['3S1', '3D1', 'E1', '3D2', '3D3', '3G3', 'E3', '3G4']\n",
      "('3S1', 1): ['3S1', '3D1', 'E1', '3D2', '3D3', '3G3', 'E3', '3G4']\n",
      "('3S1', 2): ['3S1', '3D1', 'E1', '3D2', '3D3', '3G3', 'E3', '3G4']\n",
      "('3S1', 3): ['3S1', '3D1', 'E1', '3D2', '3D3', '3G3', 'E3', '3G4']\n",
      "('3PJ', 0): ['3P0', '3P1', '3P2', '3F2', 'E2', '3F3', '3F4', '3H4', 'E4']\n",
      "('3PJ', 1): ['3P0', '3P1', '3P2', '3F2', 'E2', '3F3', '3F4', '3H4', 'E4']\n",
      "('3PJ', 2): ['3P0', '3P1', '3P2', '3F2', 'E2', '3F3', '3F4', '3H4', 'E4']\n",
      "('3PJ', 3): ['3P0', '3P1', '3P2', '3F2', 'E2', '3F3', '3F4', '3H4', 'E4']\n"
     ]
    }
   ],
   "source": [
    "for k, v in state_dependencies.items():\n",
    "    print(f\"{k}: {v}\")"
   ]
  },
  {
   "cell_type": "code",
   "execution_count": 22,
   "metadata": {},
   "outputs": [],
   "source": [
    "THRESHOLD = 1.0\n",
    "\n",
    "large_state_dependencies = {\n",
    "    (state, index): determine_affected_states(\n",
    "        state, index, threshold=THRESHOLD\n",
    "    )\n",
    "    for state in input_writer.states\n",
    "    for index in range(input_writer.multiplicity[state])\n",
    "}"
   ]
  },
  {
   "cell_type": "code",
   "execution_count": 23,
   "metadata": {},
   "outputs": [
    {
     "name": "stdout",
     "output_type": "stream",
     "text": [
      "('1S0', 0): ['1S0', '1D2']\n",
      "('1S0', 1): ['1S0', '1D2']\n",
      "('1P1', 0): ['1P1']\n",
      "('1P1', 1): ['1P1', '1F3']\n",
      "('3S1', 0): ['3S1', '3D1', 'E1', '3D2', '3D3']\n",
      "('3S1', 1): ['3S1', '3D1', 'E1', '3D2', '3D3']\n",
      "('3S1', 2): ['3S1', '3D1', 'E1', '3D2', '3D3', '3G3', 'E3', '3G4']\n",
      "('3S1', 3): ['3S1', '3D1', 'E1', '3D2', '3D3']\n",
      "('3PJ', 0): ['3P0', '3P1', '3P2', 'E2']\n",
      "('3PJ', 1): ['3P0', '3P1', '3P2', '3F2', 'E2', '3F3', '3F4']\n",
      "('3PJ', 2): ['3P0', '3P1', '3P2', '3F2', 'E2', '3F4']\n",
      "('3PJ', 3): ['3P0', '3P1', '3P2', '3F2', '3F3', '3F4', 'E4']\n"
     ]
    }
   ],
   "source": [
    "for k, v in large_state_dependencies.items():\n",
    "    print(f\"{k}: {v}\")"
   ]
  },
  {
   "cell_type": "code",
   "execution_count": 24,
   "metadata": {},
   "outputs": [
    {
     "name": "stdout",
     "output_type": "stream",
     "text": [
      "input for phases\n",
      "jb,je       0  0\n",
      "jborn       9\n",
      "nj         32 \n",
      "sing,tr,cp  1  0  0\n"
     ]
    }
   ],
   "source": [
    "!git checkout -- dphqq.d\n",
    "!head -n5 dphqq.d"
   ]
  }
 ],
 "metadata": {
  "kernelspec": {
   "display_name": "Python 3",
   "language": "python",
   "name": "python3"
  },
  "language_info": {
   "codemirror_mode": {
    "name": "ipython",
    "version": 3
   },
   "file_extension": ".py",
   "mimetype": "text/x-python",
   "name": "python",
   "nbconvert_exporter": "python",
   "pygments_lexer": "ipython3",
   "version": "3.7.6"
  }
 },
 "nbformat": 4,
 "nbformat_minor": 4
}
